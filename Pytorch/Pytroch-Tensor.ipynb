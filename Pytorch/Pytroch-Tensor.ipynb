{
 "cells": [
  {
   "cell_type": "code",
   "execution_count": 2,
   "id": "91338c16-c84d-4411-b3df-91f0c546a6a6",
   "metadata": {},
   "outputs": [],
   "source": [
    "import torch\n",
    "from torch import nn\n",
    "import numpy as np\n",
    "import matplotlib.pyplot as plt\n",
    "%matplotlib inline"
   ]
  },
  {
   "cell_type": "code",
   "execution_count": 3,
   "id": "f22b870c-a058-4696-b341-78d31865ec27",
   "metadata": {},
   "outputs": [],
   "source": [
    "seq_length = 20\n",
    "time_steps = np.linspace(0, np.pi, seq_length + 1)\n",
    "data = np.sin(time_steps)\n",
    "data.resize((seq_length + 1, 1)) "
   ]
  },
  {
   "cell_type": "code",
   "execution_count": 5,
   "id": "72c22625-37a7-4917-81f5-921beba28cce",
   "metadata": {},
   "outputs": [],
   "source": [
    "x = data[:-1] # all but the last piece of data\n",
    "y = data[1:] # all but the first"
   ]
  },
  {
   "cell_type": "code",
   "execution_count": 6,
   "id": "2ee592f3-5017-4336-8627-60c9465a2f81",
   "metadata": {},
   "outputs": [],
   "source": [
    "class RNN(nn.Module):\n",
    "    def __init__(self, input_size, output_size, hidden_dim, n_layers):\n",
    "        super(RNN, self).__init__()\n",
    "        \n",
    "        self.hidden_dim=hidden_dim\n",
    "        # batch_first means that the first dim of the input and output will be the batch_size\n",
    "        self.rnn = nn.RNN(input_size, hidden_dim, n_layers, batch_first=True)\n",
    "        # last, fully-connected layer\n",
    "        self.fc = nn.Linear(hidden_dim, output_size)\n",
    "\n",
    "    def forward(self, x, hidden):\n",
    "        # x (batch_size, seq_length, input_size)\n",
    "        # hidden (n_layers, batch_size, hidden_dim)\n",
    "        # r_out (batch_size, time_step, hidden_size)\n",
    "        batch_size = x.size(0)\n",
    "        \n",
    "        # get RNN outputs\n",
    "        r_out, hidden = self.rnn(x, hidden)\n",
    "        # shape output to be (batch_size*seq_length, hidden_dim)\n",
    "        r_out = r_out.view(-1, self.hidden_dim)  \n",
    "        \n",
    "        # get final output \n",
    "        output = self.fc(r_out)\n",
    "        \n",
    "        return output, hidden"
   ]
  },
  {
   "cell_type": "code",
   "execution_count": 7,
   "id": "3dd4af9b-709c-4388-a76e-2e48e99609fc",
   "metadata": {},
   "outputs": [
    {
     "name": "stdout",
     "output_type": "stream",
     "text": [
      "RNN(\n",
      "  (rnn): RNN(1, 32, batch_first=True)\n",
      "  (fc): Linear(in_features=32, out_features=1, bias=True)\n",
      ")\n"
     ]
    }
   ],
   "source": [
    "input_size=1 \n",
    "output_size=1\n",
    "hidden_dim=32\n",
    "n_layers=1\n",
    "\n",
    "rnn = RNN(input_size, output_size, hidden_dim, n_layers)\n",
    "print(rnn)"
   ]
  },
  {
   "cell_type": "code",
   "execution_count": 8,
   "id": "a861e21d-b883-45f9-ac52-b29bea972d08",
   "metadata": {},
   "outputs": [],
   "source": [
    "criterion = nn.MSELoss()\n",
    "optimizer = torch.optim.Adam(rnn.parameters(), lr=0.01)"
   ]
  },
  {
   "cell_type": "code",
   "execution_count": 1,
   "id": "bba1734d-3a87-4f6f-a6f3-3f5b4ebfd62c",
   "metadata": {},
   "outputs": [],
   "source": [
    "import pandas as pd"
   ]
  },
  {
   "cell_type": "code",
   "execution_count": 2,
   "id": "87459a38-8145-4204-b338-34f3422ef4c5",
   "metadata": {},
   "outputs": [],
   "source": [
    "data = pd.read_clipboard()"
   ]
  },
  {
   "cell_type": "code",
   "execution_count": 7,
   "id": "952bd70c-ebe6-43ae-bc1a-cf798eadec45",
   "metadata": {},
   "outputs": [
    {
     "data": {
      "text/plain": [
       "4538"
      ]
     },
     "execution_count": 7,
     "metadata": {},
     "output_type": "execute_result"
    }
   ],
   "source": [
    "data[data['Area Code'] == 720]['Profit'].sum()"
   ]
  },
  {
   "cell_type": "code",
   "execution_count": 12,
   "id": "173633c4-48d2-4c59-98a8-0cae9a8802b7",
   "metadata": {},
   "outputs": [
    {
     "name": "stdout",
     "output_type": "stream",
     "text": [
      "702\n"
     ]
    }
   ],
   "source": [
    "area_profit = {} # dict for storing profit of each area code\n",
    "for areacode in data['Area Code'].unique(): # looping through area codes\n",
    "    if areacode not in area_profit.keys():\n",
    "        area_profit[areacode]=data[data['Area Code'] == areacode]['Profit'].sum() # storing total profit of particular area code in key value pair\n",
    "v = list(area_profit.values()) # listing values\n",
    "k = list(area_profit.keys()) # listing keys\n",
    "print(k[v.index(max(v))]) # getting key (area code) with maximum value "
   ]
  },
  {
   "cell_type": "code",
   "execution_count": 11,
   "id": "78b50aa2-7c4e-4abc-bd73-6836d948f0a5",
   "metadata": {},
   "outputs": [
    {
     "data": {
      "text/plain": [
       "6270"
      ]
     },
     "execution_count": 11,
     "metadata": {},
     "output_type": "execute_result"
    }
   ],
   "source": [
    "max(area_profit.values())"
   ]
  },
  {
   "cell_type": "code",
   "execution_count": 13,
   "id": "eff22157-70e5-4c17-a2d6-dc23cf8254ed",
   "metadata": {},
   "outputs": [
    {
     "data": {
      "text/plain": [
       "6270"
      ]
     },
     "execution_count": 13,
     "metadata": {},
     "output_type": "execute_result"
    }
   ],
   "source": [
    "area_profit[702]"
   ]
  },
  {
   "cell_type": "code",
   "execution_count": null,
   "id": "6a74640f-41de-4b35-b3d2-a45d309b7802",
   "metadata": {},
   "outputs": [],
   "source": []
  }
 ],
 "metadata": {
  "kernelspec": {
   "display_name": "Python 3 (ipykernel)",
   "language": "python",
   "name": "python3"
  },
  "language_info": {
   "codemirror_mode": {
    "name": "ipython",
    "version": 3
   },
   "file_extension": ".py",
   "mimetype": "text/x-python",
   "name": "python",
   "nbconvert_exporter": "python",
   "pygments_lexer": "ipython3",
   "version": "3.9.7"
  }
 },
 "nbformat": 4,
 "nbformat_minor": 5
}
