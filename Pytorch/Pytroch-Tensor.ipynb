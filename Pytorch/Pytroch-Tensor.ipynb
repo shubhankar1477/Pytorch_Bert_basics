{
 "cells": [
  {
   "cell_type": "code",
   "execution_count": 2,
   "id": "91338c16-c84d-4411-b3df-91f0c546a6a6",
   "metadata": {},
   "outputs": [
    {
     "name": "stderr",
     "output_type": "stream",
     "text": [
      "/opt/anaconda3/envs/genai/lib/python3.11/site-packages/tqdm/auto.py:21: TqdmWarning: IProgress not found. Please update jupyter and ipywidgets. See https://ipywidgets.readthedocs.io/en/stable/user_install.html\n",
      "  from .autonotebook import tqdm as notebook_tqdm\n"
     ]
    }
   ],
   "source": [
    "import torch\n",
    "import torchvision\n",
    "import torch.nn as nn\n",
    "import numpy as np\n",
    "from torchvision.transforms import transforms"
   ]
  },
  {
   "cell_type": "code",
   "execution_count": 3,
   "id": "6a74640f-41de-4b35-b3d2-a45d309b7802",
   "metadata": {},
   "outputs": [],
   "source": [
    "# Basic Autograd example\n",
    "x = torch.tensor(data=1.,requires_grad=True)\n",
    "w = torch.tensor(data=2.,requires_grad=True)\n",
    "b = torch.tensor(data=3.,requires_grad=True)"
   ]
  },
  {
   "cell_type": "code",
   "execution_count": 5,
   "id": "0b1d40f9",
   "metadata": {},
   "outputs": [],
   "source": [
    "# build computational graph y = WX+B\n",
    "\n",
    "y = w * x + b"
   ]
  },
  {
   "cell_type": "code",
   "execution_count": 7,
   "id": "ef178a66",
   "metadata": {},
   "outputs": [],
   "source": [
    "# compute gradients\n",
    "y.backward()"
   ]
  },
  {
   "cell_type": "code",
   "execution_count": 8,
   "id": "5654f0d8",
   "metadata": {},
   "outputs": [
    {
     "name": "stdout",
     "output_type": "stream",
     "text": [
      "tensor(2.)\n",
      "tensor(1.)\n",
      "tensor(1.)\n"
     ]
    }
   ],
   "source": [
    "print(x.grad)\n",
    "print(w.grad)\n",
    "print(b.grad)"
   ]
  },
  {
   "cell_type": "code",
   "execution_count": 22,
   "id": "6b46e09e",
   "metadata": {},
   "outputs": [],
   "source": [
    "#### basic autograd example 2\n",
    "x = torch.randn(10,3) # 10 rows 3 columns\n",
    "y = torch.randn(10,2)\n"
   ]
  },
  {
   "cell_type": "code",
   "execution_count": 23,
   "id": "fe41383f",
   "metadata": {},
   "outputs": [
    {
     "name": "stdout",
     "output_type": "stream",
     "text": [
      "Parameter containing:\n",
      "tensor([[-0.2900,  0.0445, -0.4112],\n",
      "        [-0.0488,  0.4766,  0.4359]], requires_grad=True) w\n",
      "Parameter containing:\n",
      "tensor([-0.0854,  0.4233], requires_grad=True) b\n"
     ]
    }
   ],
   "source": [
    "# Build a fully connected layer\n",
    "linear = nn.Linear(3,2)\n",
    "print(linear.weight , \"w\")\n",
    "print(linear.bias,\"b\")"
   ]
  },
  {
   "cell_type": "code",
   "execution_count": 24,
   "id": "7e8fbb8b",
   "metadata": {},
   "outputs": [],
   "source": [
    "criterion = nn.MSELoss()\n",
    "optimiser = torch.optim.SGD(linear.parameters(),lr=0.01)"
   ]
  },
  {
   "cell_type": "code",
   "execution_count": 25,
   "id": "9481effd",
   "metadata": {},
   "outputs": [],
   "source": [
    "pred = linear(x)"
   ]
  },
  {
   "cell_type": "code",
   "execution_count": 26,
   "id": "d87f1df5",
   "metadata": {},
   "outputs": [],
   "source": [
    "loss = criterion(pred,y)"
   ]
  },
  {
   "cell_type": "code",
   "execution_count": 29,
   "id": "0fbbb96c",
   "metadata": {},
   "outputs": [],
   "source": [
    "loss.backward()"
   ]
  },
  {
   "cell_type": "code",
   "execution_count": 30,
   "id": "6ef0aee2",
   "metadata": {},
   "outputs": [
    {
     "name": "stdout",
     "output_type": "stream",
     "text": [
      "tensor([[-0.3725,  0.0541, -0.0801],\n",
      "        [-0.0959,  0.4739,  0.2560]])\n",
      "tensor([-0.0747,  0.3562])\n"
     ]
    }
   ],
   "source": [
    "print(linear.weight.grad)\n",
    "print(linear.bias.grad)"
   ]
  },
  {
   "cell_type": "code",
   "execution_count": 31,
   "id": "5055c9a0",
   "metadata": {},
   "outputs": [],
   "source": [
    "optimiser.step()"
   ]
  },
  {
   "cell_type": "code",
   "execution_count": 32,
   "id": "8982e42b",
   "metadata": {},
   "outputs": [
    {
     "name": "stdout",
     "output_type": "stream",
     "text": [
      "loss after 1 step 1.353209137916565\n"
     ]
    }
   ],
   "source": [
    "pred = linear(x)\n",
    "loss = criterion(pred,y)\n",
    "print(f\"loss after 1 step\",loss.item())"
   ]
  },
  {
   "cell_type": "code",
   "execution_count": null,
   "id": "22e745b4",
   "metadata": {},
   "outputs": [],
   "source": []
  }
 ],
 "metadata": {
  "kernelspec": {
   "display_name": "Python 3 (ipykernel)",
   "language": "python",
   "name": "python3"
  },
  "language_info": {
   "codemirror_mode": {
    "name": "ipython",
    "version": 3
   },
   "file_extension": ".py",
   "mimetype": "text/x-python",
   "name": "python",
   "nbconvert_exporter": "python",
   "pygments_lexer": "ipython3",
   "version": "3.11.5"
  }
 },
 "nbformat": 4,
 "nbformat_minor": 5
}
