{
 "cells": [
  {
   "cell_type": "code",
   "execution_count": 10,
   "metadata": {},
   "outputs": [],
   "source": [
    "import logging\n",
    "from typing import Dict,List\n",
    "\n",
    "import pandas as pd\n",
    "import torch\n",
    "from torch.utils.data import DataLoader,Dataset\n",
    "\n",
    "logging.basicConfig(level=logging.INFO, format='%(asctime)s - %(levelname)s - %(message)s')\n",
    "logger = logging.getLogger('Pytorch')\n",
    "\n"
   ]
  },
  {
   "cell_type": "code",
   "execution_count": 6,
   "metadata": {},
   "outputs": [],
   "source": [
    "class customDataset(Dataset):\n",
    "    def __init__(self,text:List,labels:List) -> None:\n",
    "        self.texts = text\n",
    "        self.labels = labels\n",
    "    \n",
    "    def __len__(self):\n",
    "        return len(self.labels)\n",
    "    \n",
    "    def __getitem__(self, index) -> Dict:\n",
    "        sample = {}\n",
    "        text = self.texts[index]\n",
    "        label = self.labels[index]\n",
    "        sample['text'] = text\n",
    "        sample['label'] = label\n",
    "        return sample\n",
    "       "
   ]
  },
  {
   "cell_type": "code",
   "execution_count": 7,
   "metadata": {},
   "outputs": [],
   "source": [
    "text = ['Happy', 'Amazing', 'Sad', 'Unhapy', 'Glum']\n",
    "labels = ['Positive', 'Positive', 'Negative', 'Negative', 'Negative']\n",
    "# create Pandas DataFrame\n",
    "text_labels_df = pd.DataFrame({'Text': text, 'Labels': labels})"
   ]
  },
  {
   "cell_type": "code",
   "execution_count": 8,
   "metadata": {},
   "outputs": [],
   "source": [
    "objDatset = customDataset(text=text,labels=labels)"
   ]
  },
  {
   "cell_type": "code",
   "execution_count": 12,
   "metadata": {},
   "outputs": [
    {
     "name": "stderr",
     "output_type": "stream",
     "text": [
      "2024-05-22 00:51:27,049 - INFO - First Iteration {'text': 'Happy', 'label': 'Positive'}\n"
     ]
    }
   ],
   "source": [
    "logger.info(msg=f\"First Iteration {next(iter(objDatset))}\")"
   ]
  },
  {
   "cell_type": "code",
   "execution_count": 13,
   "metadata": {},
   "outputs": [],
   "source": [
    "batch_size = 2\n",
    "DL_DS = DataLoader(objDatset,batch_size=batch_size,shuffle=True)"
   ]
  },
  {
   "cell_type": "code",
   "execution_count": 15,
   "metadata": {},
   "outputs": [
    {
     "name": "stderr",
     "output_type": "stream",
     "text": [
      "2024-05-22 01:06:38,252 - INFO - 0\n",
      "2024-05-22 01:06:38,254 - INFO - {'text': ['Sad', 'Amazing'], 'label': ['Negative', 'Positive']}\n",
      "2024-05-22 01:06:38,258 - INFO - ------\n",
      "2024-05-22 01:06:38,261 - INFO - 1\n",
      "2024-05-22 01:06:38,264 - INFO - {'text': ['Glum', 'Unhapy'], 'label': ['Negative', 'Negative']}\n",
      "2024-05-22 01:06:38,265 - INFO - ------\n",
      "2024-05-22 01:06:38,266 - INFO - 2\n",
      "2024-05-22 01:06:38,269 - INFO - {'text': ['Happy'], 'label': ['Positive']}\n",
      "2024-05-22 01:06:38,274 - INFO - ------\n"
     ]
    }
   ],
   "source": [
    "for (idx,batch) in enumerate(DL_DS):\n",
    "    logger.info(msg=f\"{idx}\")\n",
    "    logger.info(msg=f\"{batch}\")\n",
    "    logger.info(msg=f\"------\")"
   ]
  },
  {
   "cell_type": "code",
   "execution_count": null,
   "metadata": {},
   "outputs": [],
   "source": []
  }
 ],
 "metadata": {
  "kernelspec": {
   "display_name": "genai",
   "language": "python",
   "name": "python3"
  },
  "language_info": {
   "codemirror_mode": {
    "name": "ipython",
    "version": 3
   },
   "file_extension": ".py",
   "mimetype": "text/x-python",
   "name": "python",
   "nbconvert_exporter": "python",
   "pygments_lexer": "ipython3",
   "version": "3.11.5"
  }
 },
 "nbformat": 4,
 "nbformat_minor": 2
}
